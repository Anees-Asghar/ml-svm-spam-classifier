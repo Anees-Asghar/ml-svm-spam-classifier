{
 "cells": [
  {
   "cell_type": "markdown",
   "id": "4e662c10",
   "metadata": {},
   "source": [
    "#### Libraries"
   ]
  },
  {
   "cell_type": "code",
   "execution_count": 1,
   "id": "a3ac7f72",
   "metadata": {},
   "outputs": [],
   "source": [
    "import os\n",
    "\n",
    "import numpy as np\n",
    "import pandas as pd\n",
    "import seaborn as sns\n",
    "\n",
    "from sklearn import svm\n",
    "from sklearn.metrics import f1_score, confusion_matrix, classification_report\n",
    "\n",
    "from zipfile import ZipFile\n",
    "\n",
    "%matplotlib inline"
   ]
  },
  {
   "cell_type": "markdown",
   "id": "12eda5dd",
   "metadata": {},
   "source": [
    "#### Constants"
   ]
  },
  {
   "cell_type": "code",
   "execution_count": 2,
   "id": "dfeed6ee",
   "metadata": {},
   "outputs": [],
   "source": [
    "DATA_DIR = os.path.join(os.path.abspath(os.getcwd()), 'data')\n",
    "PATH_TO_ZIP_FILE = os.path.join(DATA_DIR, 'emails.zip')\n",
    "PATH_TO_CSV_FILE = os.path.join(DATA_DIR, 'emails.csv')\n",
    "\n",
    "TRAINING_SET_SIZE = 0.7"
   ]
  },
  {
   "cell_type": "markdown",
   "id": "51196f8a",
   "metadata": {},
   "source": [
    "#### Loading Data"
   ]
  },
  {
   "cell_type": "code",
   "execution_count": 3,
   "id": "5976ac5a",
   "metadata": {},
   "outputs": [
    {
     "name": "stdout",
     "output_type": "stream",
     "text": [
      "CSV file already present.\n"
     ]
    }
   ],
   "source": [
    "# extract zip, if not yet extracted\n",
    "if not os.path.exists(PATH_TO_CSV_FILE):\n",
    "    try:\n",
    "        with ZipFile(PATH_TO_ZIP_FILE, 'r') as zip_ref:\n",
    "            zip_ref.extractall(DATA_DIR)\n",
    "        print('CSV file has been extracted.')\n",
    "    except:\n",
    "        print('The zip file or data dir has been removed.')\n",
    "else:\n",
    "    print('CSV file already present.')"
   ]
  },
  {
   "cell_type": "code",
   "execution_count": 4,
   "id": "1df710f2",
   "metadata": {},
   "outputs": [],
   "source": [
    "# load csv\n",
    "df = pd.read_csv(PATH_TO_CSV_FILE)"
   ]
  },
  {
   "cell_type": "code",
   "execution_count": 5,
   "id": "ac2620f9",
   "metadata": {},
   "outputs": [
    {
     "data": {
      "text/html": [
       "<div>\n",
       "<style scoped>\n",
       "    .dataframe tbody tr th:only-of-type {\n",
       "        vertical-align: middle;\n",
       "    }\n",
       "\n",
       "    .dataframe tbody tr th {\n",
       "        vertical-align: top;\n",
       "    }\n",
       "\n",
       "    .dataframe thead th {\n",
       "        text-align: right;\n",
       "    }\n",
       "</style>\n",
       "<table border=\"1\" class=\"dataframe\">\n",
       "  <thead>\n",
       "    <tr style=\"text-align: right;\">\n",
       "      <th></th>\n",
       "      <th>Email No.</th>\n",
       "      <th>the</th>\n",
       "      <th>to</th>\n",
       "      <th>ect</th>\n",
       "      <th>and</th>\n",
       "      <th>for</th>\n",
       "      <th>of</th>\n",
       "      <th>a</th>\n",
       "      <th>you</th>\n",
       "      <th>hou</th>\n",
       "      <th>...</th>\n",
       "      <th>connevey</th>\n",
       "      <th>jay</th>\n",
       "      <th>valued</th>\n",
       "      <th>lay</th>\n",
       "      <th>infrastructure</th>\n",
       "      <th>military</th>\n",
       "      <th>allowing</th>\n",
       "      <th>ff</th>\n",
       "      <th>dry</th>\n",
       "      <th>Prediction</th>\n",
       "    </tr>\n",
       "  </thead>\n",
       "  <tbody>\n",
       "    <tr>\n",
       "      <th>0</th>\n",
       "      <td>Email 1</td>\n",
       "      <td>0</td>\n",
       "      <td>0</td>\n",
       "      <td>1</td>\n",
       "      <td>0</td>\n",
       "      <td>0</td>\n",
       "      <td>0</td>\n",
       "      <td>2</td>\n",
       "      <td>0</td>\n",
       "      <td>0</td>\n",
       "      <td>...</td>\n",
       "      <td>0</td>\n",
       "      <td>0</td>\n",
       "      <td>0</td>\n",
       "      <td>0</td>\n",
       "      <td>0</td>\n",
       "      <td>0</td>\n",
       "      <td>0</td>\n",
       "      <td>0</td>\n",
       "      <td>0</td>\n",
       "      <td>0</td>\n",
       "    </tr>\n",
       "    <tr>\n",
       "      <th>1</th>\n",
       "      <td>Email 2</td>\n",
       "      <td>8</td>\n",
       "      <td>13</td>\n",
       "      <td>24</td>\n",
       "      <td>6</td>\n",
       "      <td>6</td>\n",
       "      <td>2</td>\n",
       "      <td>102</td>\n",
       "      <td>1</td>\n",
       "      <td>27</td>\n",
       "      <td>...</td>\n",
       "      <td>0</td>\n",
       "      <td>0</td>\n",
       "      <td>0</td>\n",
       "      <td>0</td>\n",
       "      <td>0</td>\n",
       "      <td>0</td>\n",
       "      <td>0</td>\n",
       "      <td>1</td>\n",
       "      <td>0</td>\n",
       "      <td>0</td>\n",
       "    </tr>\n",
       "    <tr>\n",
       "      <th>2</th>\n",
       "      <td>Email 3</td>\n",
       "      <td>0</td>\n",
       "      <td>0</td>\n",
       "      <td>1</td>\n",
       "      <td>0</td>\n",
       "      <td>0</td>\n",
       "      <td>0</td>\n",
       "      <td>8</td>\n",
       "      <td>0</td>\n",
       "      <td>0</td>\n",
       "      <td>...</td>\n",
       "      <td>0</td>\n",
       "      <td>0</td>\n",
       "      <td>0</td>\n",
       "      <td>0</td>\n",
       "      <td>0</td>\n",
       "      <td>0</td>\n",
       "      <td>0</td>\n",
       "      <td>0</td>\n",
       "      <td>0</td>\n",
       "      <td>0</td>\n",
       "    </tr>\n",
       "    <tr>\n",
       "      <th>3</th>\n",
       "      <td>Email 4</td>\n",
       "      <td>0</td>\n",
       "      <td>5</td>\n",
       "      <td>22</td>\n",
       "      <td>0</td>\n",
       "      <td>5</td>\n",
       "      <td>1</td>\n",
       "      <td>51</td>\n",
       "      <td>2</td>\n",
       "      <td>10</td>\n",
       "      <td>...</td>\n",
       "      <td>0</td>\n",
       "      <td>0</td>\n",
       "      <td>0</td>\n",
       "      <td>0</td>\n",
       "      <td>0</td>\n",
       "      <td>0</td>\n",
       "      <td>0</td>\n",
       "      <td>0</td>\n",
       "      <td>0</td>\n",
       "      <td>0</td>\n",
       "    </tr>\n",
       "    <tr>\n",
       "      <th>4</th>\n",
       "      <td>Email 5</td>\n",
       "      <td>7</td>\n",
       "      <td>6</td>\n",
       "      <td>17</td>\n",
       "      <td>1</td>\n",
       "      <td>5</td>\n",
       "      <td>2</td>\n",
       "      <td>57</td>\n",
       "      <td>0</td>\n",
       "      <td>9</td>\n",
       "      <td>...</td>\n",
       "      <td>0</td>\n",
       "      <td>0</td>\n",
       "      <td>0</td>\n",
       "      <td>0</td>\n",
       "      <td>0</td>\n",
       "      <td>0</td>\n",
       "      <td>0</td>\n",
       "      <td>1</td>\n",
       "      <td>0</td>\n",
       "      <td>0</td>\n",
       "    </tr>\n",
       "  </tbody>\n",
       "</table>\n",
       "<p>5 rows × 3002 columns</p>\n",
       "</div>"
      ],
      "text/plain": [
       "  Email No.  the  to  ect  and  for  of    a  you  hou  ...  connevey  jay  \\\n",
       "0   Email 1    0   0    1    0    0   0    2    0    0  ...         0    0   \n",
       "1   Email 2    8  13   24    6    6   2  102    1   27  ...         0    0   \n",
       "2   Email 3    0   0    1    0    0   0    8    0    0  ...         0    0   \n",
       "3   Email 4    0   5   22    0    5   1   51    2   10  ...         0    0   \n",
       "4   Email 5    7   6   17    1    5   2   57    0    9  ...         0    0   \n",
       "\n",
       "   valued  lay  infrastructure  military  allowing  ff  dry  Prediction  \n",
       "0       0    0               0         0         0   0    0           0  \n",
       "1       0    0               0         0         0   1    0           0  \n",
       "2       0    0               0         0         0   0    0           0  \n",
       "3       0    0               0         0         0   0    0           0  \n",
       "4       0    0               0         0         0   1    0           0  \n",
       "\n",
       "[5 rows x 3002 columns]"
      ]
     },
     "execution_count": 5,
     "metadata": {},
     "output_type": "execute_result"
    }
   ],
   "source": [
    "df.head()"
   ]
  },
  {
   "cell_type": "markdown",
   "id": "89a81b3f",
   "metadata": {},
   "source": [
    "#### Model inputs"
   ]
  },
  {
   "cell_type": "code",
   "execution_count": 6,
   "id": "636ca0ac",
   "metadata": {},
   "outputs": [],
   "source": [
    "# 3000 most common words in all emails\n",
    "vocab = list(df)[1:-1]\n",
    "\n",
    "m = df[vocab[0]].count()\n",
    "X = np.zeros((m, len(vocab)))\n",
    "y = df[list(df)[-1]].values"
   ]
  },
  {
   "cell_type": "code",
   "execution_count": 7,
   "id": "2435b782",
   "metadata": {},
   "outputs": [],
   "source": [
    "# filling in X\n",
    "for row_idx, row in df.iterrows():\n",
    "    for word_idx, word in enumerate(vocab):\n",
    "        if row[word]:\n",
    "            X[row_idx, word_idx] = 1"
   ]
  },
  {
   "cell_type": "markdown",
   "id": "c0fd9d5b",
   "metadata": {},
   "source": [
    "#### Test / Cross-Validation Split"
   ]
  },
  {
   "cell_type": "code",
   "execution_count": 8,
   "id": "f5631e80",
   "metadata": {},
   "outputs": [],
   "source": [
    "mval = int(m * (1-TRAINING_SET_SIZE))\n",
    "rand_indices = np.random.choice(m, mval, replace=False)\n",
    "\n",
    "Xval, yval = X[rand_indices, :], y[rand_indices]\n",
    "X, y = np.delete(X, rand_indices, axis=0), np.delete(y, rand_indices)\n",
    "\n",
    "m, n = X.shape"
   ]
  },
  {
   "cell_type": "markdown",
   "id": "242342eb",
   "metadata": {},
   "source": [
    "#### Model Training"
   ]
  },
  {
   "cell_type": "code",
   "execution_count": 9,
   "id": "e30cfb96",
   "metadata": {},
   "outputs": [
    {
     "data": {
      "text/plain": [
       "LinearSVC(dual=False)"
      ]
     },
     "execution_count": 9,
     "metadata": {},
     "output_type": "execute_result"
    }
   ],
   "source": [
    "clf = svm.LinearSVC(dual=(m<n)) # sets dual=True if m < n\n",
    "clf.fit(X, y)"
   ]
  },
  {
   "cell_type": "markdown",
   "id": "01cba7c6",
   "metadata": {},
   "source": [
    "#### Model Performance"
   ]
  },
  {
   "cell_type": "code",
   "execution_count": 10,
   "id": "8e87143b",
   "metadata": {},
   "outputs": [],
   "source": [
    "predictions = clf.predict(Xval)"
   ]
  },
  {
   "cell_type": "code",
   "execution_count": 11,
   "id": "e9d9220f",
   "metadata": {},
   "outputs": [
    {
     "name": "stdout",
     "output_type": "stream",
     "text": [
      "The model has a 96.58 % accuracy.\n",
      "--------------------------------------------------------------\n",
      "              precision    recall  f1-score   support\n",
      "\n",
      "           0       0.98      0.98      0.98      1109\n",
      "           1       0.94      0.94      0.94       442\n",
      "\n",
      "    accuracy                           0.97      1551\n",
      "   macro avg       0.96      0.96      0.96      1551\n",
      "weighted avg       0.97      0.97      0.97      1551\n",
      "\n",
      "--------------------------------------------------------------\n",
      "F-Measure: 0.940\n",
      "--------------------------------------------------------------\n"
     ]
    },
    {
     "data": {
      "image/png": "[encoded data removed]",
      "text/plain": [
       "<Figure size 432x288 with 2 Axes>"
      ]
     },
     "metadata": {
      "needs_background": "light"
     },
     "output_type": "display_data"
    }
   ],
   "source": [
    "# Accuracy\n",
    "accuracy = np.average(yval==predictions) * 100\n",
    "print(f'The model has a {round(accuracy, 2)} % accuracy.')\n",
    "print('--------------------------------------------------------------')\n",
    "\n",
    "# Classification Report\n",
    "print(classification_report(yval, predictions))\n",
    "print('--------------------------------------------------------------')\n",
    "\n",
    "# F-1 Score\n",
    "score_2 = f1_score(yval, predictions, average = 'binary')\n",
    "print('F-Measure: %.3f' % score_2)\n",
    "print('--------------------------------------------------------------')\n",
    "\n",
    "# Confusion Matrix\n",
    "cf_matrix = confusion_matrix(yval, predictions)\n",
    "\n",
    "group_names = ['True Neg','False Pos','False Neg','True Pos']\n",
    "group_counts = ['{0:0.0f}'.format(value) for value in\n",
    "                cf_matrix.flatten()]\n",
    "group_percentages = ['{0:.2%}'.format(value) for value in\n",
    "                     cf_matrix.flatten()/np.sum(cf_matrix)]\n",
    "\n",
    "labels = [f'{v1}\\n{v2}\\n{v3}' for v1, v2, v3 in\n",
    "          zip(group_names,group_counts,group_percentages)]\n",
    "\n",
    "labels = np.asarray(labels).reshape(2,2)\n",
    "sns.heatmap(cf_matrix/np.sum(cf_matrix), annot=labels, fmt='')\n",
    "\n",
    "pass"
   ]
  },
  {
   "cell_type": "markdown",
   "id": "9ac5e8e8",
   "metadata": {},
   "source": [
    "[Source](https://www.kaggle.com/balaka18/email-spam-classification-dataset-csv) for the data used in this notebook. "
   ]
  }
 ],
 "metadata": {
  "kernelspec": {
   "display_name": "Python 3",
   "language": "python",
   "name": "python3"
  },
  "language_info": {
   "codemirror_mode": {
    "name": "ipython",
    "version": 3
   },
   "file_extension": ".py",
   "mimetype": "text/x-python",
   "name": "python",
   "nbconvert_exporter": "python",
   "pygments_lexer": "ipython3",
   "version": "3.8.10"
  }
 },
 "nbformat": 4,
 "nbformat_minor": 5
}
